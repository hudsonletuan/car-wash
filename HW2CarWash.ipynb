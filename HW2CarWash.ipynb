{
 "cells": [
  {
   "cell_type": "markdown",
   "metadata": {
    "collapsed": false,
    "deletable": false,
    "editable": false,
    "nbgrader": {
     "grade": false,
     "grade_id": "6c4c0b",
     "locked": true,
     "schema_version": 3,
     "solution": false,
     "task": false
    }
   },
   "source": [
    "# Car Wash Simulation\n"
   ]
  },
  {
   "cell_type": "markdown",
   "metadata": {
    "collapsed": false,
    "deletable": false,
    "editable": false,
    "nbgrader": {
     "grade": false,
     "grade_id": "327146",
     "locked": true,
     "schema_version": 3,
     "solution": false,
     "task": false
    }
   },
   "source": [
    "### The queue of customers\n",
    "\n",
    "All we really need to know about the customers is how long they wait in the\n",
    "queue. So, when one arrives, we will represent them by a number called a\n",
    "*timestamp*. The simulation works in seconds, so the timestamp will just be the\n",
    "number of seconds that have already passed during the simulation before the\n",
    "customer arrives. When a customer is removed from the queue (their car is\n",
    "washed), we can then calculate the number of seconds they waited."
   ]
  },
  {
   "cell_type": "code",
   "execution_count": null,
   "metadata": {
    "collapsed": false,
    "deletable": false,
    "editable": false,
    "nbgrader": {
     "grade": false,
     "grade_id": "59474e",
     "locked": true,
     "schema_version": 3,
     "solution": false,
     "task": false
    }
   },
   "outputs": [],
   "source": [
    "from collections import deque"
   ]
  },
  {
   "cell_type": "markdown",
   "metadata": {
    "collapsed": false,
    "deletable": false,
    "editable": false,
    "nbgrader": {
     "grade": false,
     "grade_id": "a0cfe9",
     "locked": true,
     "schema_version": 3,
     "solution": false,
     "task": false
    }
   },
   "source": [
    "### The `washer` object\n",
    "\n",
    "Instances of the `washer` class simulate the machine that washes cars. Its\n",
    "constructor will take one parameter (in addition to `self`): the number of\n",
    "seconds needed to wash a car, `wash_time`. When the washer starts washing,\n",
    "sets its `time_until_done` attribute equal to `wash_time`.\n",
    "\n",
    "Each time another second passes, the simulation program will indicate the\n",
    "passage of one second for the washer. This is done by the instance method\n",
    "`washer.one_second()`.\n",
    "\n",
    "The washer needs to be able to tell the rest of the program whether it is\n",
    "currently busy, and to start washing the next car in the queue. These are\n",
    "done via member functions `washer.is_busy()` and `washer.wash()`."
   ]
  },
  {
   "cell_type": "code",
   "execution_count": null,
   "metadata": {
    "collapsed": false,
    "deletable": false,
    "nbgrader": {
     "checksum": "8849a9621f28f98d75bd71717021f4d6",
     "grade": false,
     "grade_id": "4a5512",
     "locked": false,
     "schema_version": 3,
     "solution": true,
     "task": false
    }
   },
   "outputs": [],
   "source": [
    "class Washer:\n",
    "    \"\"\"The washer knows whether it is washing, and if it is, how long it will be until the\n",
    "    next car can exit the waiting queue.\n",
    "    \"\"\"\n",
    "    def __init__(self, wash_time):\n",
    "        \"\"\"Sets up a Washer instance. Make sure you know what the instance attributes should be!\"\"\"\n",
    "        \n",
    "        self.wash_time = wash_time\n",
    "        self.time_until_done = 0\n",
    "\n",
    "    def is_busy(self):\n",
    "        \"\"\"Return True if the washer is currently washing (so no car can\n",
    "        exit the queue yet) and False if not (the next car can be dequeued).\"\"\"\n",
    "        \n",
    "        if self.time_until_done != 0:\n",
    "            return True\n",
    "        else:\n",
    "            return False\n",
    "\n",
    "    def start_washing(self):\n",
    "        \"\"\"Tell the washer to wash the car at the front of the\n",
    "        queue by updating its attributes appropriately.\"\"\"\n",
    "        \n",
    "        if self.is_busy() == False:\n",
    "            self.time_until_done = self.wash_time\n",
    "\n",
    "    def one_second(self):\n",
    "        \"\"\"Update the washer's attributes to reflect the passage of one second.\"\"\"\n",
    "        \n",
    "        if self.time_until_done != 0:\n",
    "            self.time_until_done = self.time_until_done - 1"
   ]
  },
  {
   "cell_type": "code",
   "execution_count": null,
   "metadata": {
    "collapsed": false,
    "deletable": false,
    "editable": false,
    "nbgrader": {
     "grade": true,
     "grade_id": "41ff86",
     "locked": true,
     "points": 1,
     "schema_version": 3,
     "solution": false,
     "task": false
    }
   },
   "outputs": [],
   "source": [
    "# Check that the Washer class does what it is supposed to:\n",
    "from nose.tools import assert_equal\n",
    "w = Washer(100)\n",
    "assert_equal(w.wash_time, 100)\n",
    "assert_equal(w.time_until_done, 0)\n",
    "for key in vars(w):\n",
    "    assert(key in ('wash_time', 'time_until_done'))\n",
    "\n",
    "w.time_until_done = 1\n",
    "assert(w.is_busy())\n",
    "w.time_until_done = 0\n",
    "assert(not w.is_busy())\n",
    "\n",
    "w.start_washing()\n",
    "assert_equal(w.time_until_done, w.wash_time)\n",
    "\n",
    "w.time_until_done = 10\n",
    "w.one_second()\n",
    "assert_equal(w.time_until_done, 9)"
   ]
  },
  {
   "cell_type": "markdown",
   "metadata": {
    "collapsed": false,
    "deletable": false,
    "editable": false,
    "nbgrader": {
     "grade": false,
     "grade_id": "3e50b6",
     "locked": true,
     "schema_version": 3,
     "solution": false,
     "task": false
    }
   },
   "source": [
    "### Managing arrivals\n",
    "\n",
    "We'll use the probability input to determine, during each simulated second,\n",
    "whether or not a new customer arrives at the rear of the queue. This could be\n",
    "done with a simple free-standing (i.e., not an instance method) function, but\n",
    "the design choice here is to use a single instance of a custom class, called\n",
    "`ArrivalGenerator`. The `ArrivalGenerator` class has a constructor that takes\n",
    "one optional argument, the probability input of the program. (If no argument is\n",
    "passed, the constructor uses the default value of `0.5`.) It has a single\n",
    "instance method `ArrivalGenerator.query()` that returns either `True` or\n",
    "`False`, with `True` occurring with probability given by the constructor's\n",
    "argument. We'll use some helper functions from the `random` module to generate\n",
    "these random occurrences."
   ]
  },
  {
   "cell_type": "code",
   "execution_count": null,
   "metadata": {
    "collapsed": false,
    "deletable": false,
    "nbgrader": {
     "checksum": "413aaf13326790fa758e75aa95685703",
     "grade": false,
     "grade_id": "bf5385",
     "locked": false,
     "remove": false,
     "schema_version": 3,
     "solution": true,
     "task": false
    }
   },
   "outputs": [],
   "source": [
    "import random\n",
    "\n",
    "class ArrivalGenerator:\n",
    "    def __init__(self, prob=0.5):\n",
    "        \"\"\"The ArrivalGenerator has one job: return True with probability `prob`.\n",
    "        To do that, it needs to save the value of `prob`.\n",
    "        \"\"\"\n",
    "        \n",
    "        self.probability = prob\n",
    "\n",
    "    def query(self):\n",
    "        \"\"\"Return True with probability prob. There are many different ways \n",
    "        you might use the `random` module's functions\n",
    "        to do it. If you want a hint, please ask, I don't want you to get hung up on the\n",
    "        math of probability too much.\"\"\"\n",
    "        \n",
    "        while self.probability >= random.random():\n",
    "            return True\n"
   ]
  },
  {
   "cell_type": "code",
   "execution_count": null,
   "metadata": {
    "collapsed": false,
    "deletable": false,
    "editable": false,
    "nbgrader": {
     "grade": true,
     "grade_id": "fe6735",
     "locked": true,
     "points": 1,
     "schema_version": 3,
     "solution": false,
     "task": false
    }
   },
   "outputs": [],
   "source": [
    "# Check that ArrivalGenerator does what it is supposed to do:\n",
    "from nose.tools import assert_equal\n",
    "a = ArrivalGenerator()\n",
    "assert_equal(a.probability, 0.5)\n",
    "a = ArrivalGenerator(0.9)\n",
    "assert_equal(a.probability, 0.9)\n",
    "\n",
    "arrivals_list = (a.query() for _ in range(1_000_000))\n",
    "number_of_arrivals = sum([1 for x in arrivals_list if x])\n",
    "# You should get something very close to 900000\n",
    "assert(899000 < number_of_arrivals and number_of_arrivals < 901000)\n",
    "# If it fails, but you think you are right, just try again. It is probabilistic,\n",
    "# so could be false negative. But two false negatives is unlikely to happen."
   ]
  },
  {
   "cell_type": "markdown",
   "metadata": {
    "collapsed": false,
    "deletable": false,
    "editable": false,
    "nbgrader": {
     "grade": false,
     "grade_id": "422d94",
     "locked": true,
     "schema_version": 3,
     "solution": false,
     "task": false
    }
   },
   "source": [
    "### Tracking the average waiting time\n",
    "\n",
    "To track the average waiting time, we'll use another custom class instance.\n",
    "The class is called `AverageTracker`. Its only job is to compute the\n",
    "average of a sequence of numbers. For example, we could send the values\n",
    "234, 234, 908, and 279 into an `AverageTracker`. It could then tell us\n",
    "that the average of these values is 413.75. It could also tell us that\n",
    "so far it has processed 4 values. Thus we can use our `AverageTracker`\n",
    "to keep track of the average waiting time *and* the number of customers\n",
    "served during the simulation.\n",
    "\n",
    "The `AverageTracker` has a constructor that prepares the `AverageTracker`\n",
    "instance to accept a sequence of numbers. The instance receives one value\n",
    "at a time through instance method `AverageTracker.next_value()`.\n",
    "\n",
    "There are two instance methods to obtain info from the `AverageTracker`.\n",
    "These are `AverageTracker.number_of_values()` and `AverageTracker.average()`."
   ]
  },
  {
   "cell_type": "code",
   "execution_count": null,
   "metadata": {
    "collapsed": false,
    "deletable": false,
    "nbgrader": {
     "checksum": "9cb8900dc9721adb3aeb9df0beddf31d",
     "grade": false,
     "grade_id": "3ba7cf",
     "locked": false,
     "schema_version": 3,
     "solution": true,
     "task": false
    }
   },
   "outputs": [],
   "source": [
    "class AverageTracker:\n",
    "    def __init__(self):\n",
    "        \"\"\"The average tracker just needs to know the total of all numbers\n",
    "        it has received so far and how many numbers it's received.\"\"\"\n",
    "        \n",
    "        self.count = 0\n",
    "        self.sum_ = 0\n",
    "\n",
    "    def next_value(self, val):\n",
    "        \"\"\"This method adds `val` to the total received so far and increments\n",
    "        the number of values received.\"\"\"\n",
    "        \n",
    "        self.sum_ += val\n",
    "        self.count += 1\n",
    "\n",
    "    def average(self):\n",
    "        \"\"\"Return the average of all the values so far.\"\"\"\n",
    "        \n",
    "        return self.sum_ / self.count\n",
    "\n",
    "    def number_of_values(self):\n",
    "        \"\"\"Return the number of values received so far.\"\"\"\n",
    "        \n",
    "        return self.count"
   ]
  },
  {
   "cell_type": "code",
   "execution_count": null,
   "metadata": {
    "collapsed": false,
    "deletable": false,
    "editable": false,
    "nbgrader": {
     "grade": true,
     "grade_id": "69b5de",
     "locked": true,
     "points": 1,
     "schema_version": 3,
     "solution": false,
     "task": false
    }
   },
   "outputs": [],
   "source": [
    "from nose.tools import assert_equal\n",
    "import random\n",
    "at = AverageTracker()\n",
    "assert_equal(at.count, 0)\n",
    "assert_equal(at.sum_, 0)\n",
    "for key in vars(at):\n",
    "    assert(key in ('count', 'sum_'))\n",
    "\n",
    "at = AverageTracker()\n",
    "random_value_list = [random.random() for _ in range(1000)]\n",
    "for val in random_value_list:\n",
    "    at.next_value(val)\n",
    "\n",
    "assert_equal(at.count, len(random_value_list))\n",
    "assert_equal(at.sum_, sum(random_value_list))\n",
    "assert(at.average() == sum(random_value_list)/len(random_value_list))"
   ]
  },
  {
   "cell_type": "markdown",
   "metadata": {
    "collapsed": false,
    "deletable": false,
    "editable": false,
    "nbgrader": {
     "grade": false,
     "grade_id": "dc12d2",
     "locked": true,
     "schema_version": 3,
     "solution": false,
     "task": false
    }
   },
   "source": [
    "### Pseudocode for main program\n",
    "\n",
    "<ol style=\"list-style-type: upper-roman\">\n",
    "    <li>Initialize the input values for the program. These are arrival probability and simulation time.</li>\n",
    "    <li>Initialize a <tt>Washer</tt> instance, making sure to supply a value for its parameter (how long it takes to wash a car).</li>\n",
    "    <li>Initialize instances of <tt>ArrivalGenerator</tt>, <tt>AverageTracker</tt>, and <tt>deque</tt>.</li>\n",
    "    <li>For each integer between 0 and the simulation time:</li>\n",
    "    <ol style=\"list-style-type: upper-alpha\">\n",
    "        <li>Ask the <tt>ArrivalGenerator</tt> whether a new customer arrives during the current second. If so, enqueue the value of the current second.</li>\n",
    "        <li>If the <tt>Washer</tt> is not busy and the queue is not empty:</li>\n",
    "        <ol style=\"list-style-type: arabic\">\n",
    "            <li>Remove the next value from the queue. This is the arrival timestamp of the car about to get washed.</li>\n",
    "            <li>Compute how long the next car had to wait, and send that value to the <tt>AverageTracker</tt>.</li>\n",
    "            <li>Tell the <tt>Washer</tt> to start washing the next car in line.</li>\n",
    "        </ol>\n",
    "            <li>Tell the <tt>Washer</tt> another second has passed. (This is how the washer knows when it is no longer busy.)</li>\n",
    "    </ol>\n",
    "    <li>Now the simulation is done. Print a report including the simulation time and probability, number of cars washed, and average waiting time. Example:<br/>\n",
    "        <tt>Simulation complete<br/>\n",
    "        In 1000 seconds with probability 0.005: washed 23 cars with average waiting time 83.2 seconds.\n",
    "        </tt>\n",
    "    </li>\n",
    "</ol>\n",
    "\n",
    "### Read this carefully\n",
    "\n",
    "Make sure you don't reinvent the wheel. A fully object-oriented, encapsulated style means that your main program does less work on its own. In this program, it should mostly coordinate the actions of various objects, who handle the details of the simulation as you've already written them. It does this by passing messages (values) between them. Set your objects up, then let them do their work.\n",
    "\n",
    "### Testing your simulation\n",
    "\n",
    "You should get realistic values with the probability, simulation time, and wash time that are provided."
   ]
  },
  {
   "cell_type": "code",
   "execution_count": null,
   "metadata": {
    "collapsed": false,
    "deletable": false,
    "nbgrader": {
     "cell_type": "code",
     "checksum": "496c0a1c01fe7c82bee6cd528fd0788a",
     "grade": false,
     "grade_id": "f734c3",
     "locked": false,
     "schema_version": 3,
     "solution": true,
     "task": false
    }
   },
   "outputs": [],
   "source": [
    "from collections import deque\n",
    "\n",
    "prob = 0.004\n",
    "simulation_time = 6000\n",
    "wash_time = 150\n",
    "\n",
    "def simulation(prob, simulation_time, wash_time):\n",
    "    ws = Washer(wash_time)\n",
    "    arg = ArrivalGenerator(prob)\n",
    "    avg_wash_time = AverageTracker()\n",
    "    wash_deque = deque()\n",
    "    for current_second in range(simulation_time):\n",
    "        if arg.query() == True:\n",
    "            wash_deque.appendleft(current_second)\n",
    "        if ws.is_busy() == False and len(wash_deque) != 0:\n",
    "            timestamp = wash_deque.pop()\n",
    "            avg_wash_time.next_value(current_second - timestamp)\n",
    "            ws.start_washing()\n",
    "        ws.one_second()\n",
    "    avg_time = avg_wash_time.average()\n",
    "    count = avg_wash_time.number_of_values()\n",
    "    print(f\"In {simulation_time} seconds with probability {prob}: washed {count} cars with average waiting time {avg_time} seconds.\")\n",
    "    return count, avg_time"
   ]
  },
  {
   "cell_type": "markdown",
   "metadata": {
    "collapsed": false
   },
   "source": [
    "### SIMULATE\n",
    "\n",
    "Run your simulation ten thousand times (it will take a minute or two). Store the\n",
    "results in two lists. Each run of the simulation produces a count and an\n",
    "average. After each run, capture these values. Append the count to the list of\n",
    "counts and the average to the list of averages. Return the two lists at once,\n",
    "like this:\n",
    "\n",
    "```python\n",
    "return counts, averages\n",
    "```"
   ]
  },
  {
   "cell_type": "code",
   "execution_count": null,
   "metadata": {
    "collapsed": false,
    "deletable": false,
    "nbgrader": {
     "checksum": "1286ae4e84f6a359db4dc036a61748ff",
     "grade": false,
     "grade_id": "797723",
     "locked": false,
     "schema_version": 3,
     "solution": true,
     "task": false
    }
   },
   "outputs": [],
   "source": [
    "def ten_thousand_runs():\n",
    "    \"\"\"\n",
    "    Get lists of ten thousand counts and averages from the simulator.\n",
    "    Return the lists like this:\n",
    "    return counts, averages\n",
    "    \"\"\"\n",
    "    \n",
    "    counts = []\n",
    "    averages = []\n",
    "    for _ in range(10000):\n",
    "        count, avg_time = simulation(0.004, 6000, 150)\n",
    "        counts.append(count)\n",
    "        averages.append(avg_time)\n",
    "    return counts, averages\n",
    "\n",
    "counts, averages = ten_thousand_runs()"
   ]
  },
  {
   "cell_type": "markdown",
   "metadata": {
    "collapsed": false
   },
   "source": [
    "To see a graph of your simulated results, run the next cell."
   ]
  },
  {
   "cell_type": "code",
   "execution_count": null,
   "metadata": {
    "collapsed": false
   },
   "outputs": [],
   "source": [
    "import matplotlib.pyplot as plt\n",
    "\n",
    "plt.style.use('seaborn-whitegrid')\n",
    "plt.plot(counts, averages, '.', color='black')\n",
    "plt.xlabel(\"counts\")\n",
    "plt.ylabel(\"average wait time\")"
   ]
  }
 ],
 "metadata": {
  "kernelspec": {
   "display_name": "Python 3 (system-wide)",
   "language": "python",
   "metadata": {
    "cocalc": {
     "description": "Python 3 programming language",
     "priority": 100,
     "url": "https://www.python.org/"
    }
   },
   "name": "python3",
   "resource_dir": "/ext/jupyter/kernels/python3"
  },
  "language_info": {
   "codemirror_mode": {
    "name": "ipython",
    "version": 3
   },
   "file_extension": ".py",
   "mimetype": "text/x-python",
   "name": "python",
   "nbconvert_exporter": "python",
   "pygments_lexer": "ipython3",
   "version": "3.8.10"
  }
 },
 "nbformat": 4,
 "nbformat_minor": 4
}
